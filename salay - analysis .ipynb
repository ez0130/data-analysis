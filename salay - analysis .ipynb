{
 "cells": [
  {
   "attachments": {},
   "cell_type": "markdown",
   "metadata": {},
   "source": [
    "연봉 계산 실습"
   ]
  },
  {
   "cell_type": "code",
   "execution_count": 4,
   "metadata": {},
   "outputs": [
    {
     "name": "stdout",
     "output_type": "stream",
     "text": [
      "Requirement already satisfied: sklearn in c:\\users\\user\\appdata\\local\\packages\\pythonsoftwarefoundation.python.3.9_qbz5n2kfra8p0\\localcache\\local-packages\\python39\\site-packages (0.0)\n",
      "Requirement already satisfied: scikit-learn in c:\\users\\user\\appdata\\local\\packages\\pythonsoftwarefoundation.python.3.9_qbz5n2kfra8p0\\localcache\\local-packages\\python39\\site-packages (from sklearn) (0.24.2)\n",
      "Requirement already satisfied: threadpoolctl>=2.0.0 in c:\\users\\user\\appdata\\local\\packages\\pythonsoftwarefoundation.python.3.9_qbz5n2kfra8p0\\localcache\\local-packages\\python39\\site-packages (from scikit-learn->sklearn) (2.2.0)\n",
      "Requirement already satisfied: joblib>=0.11 in c:\\users\\user\\appdata\\local\\packages\\pythonsoftwarefoundation.python.3.9_qbz5n2kfra8p0\\localcache\\local-packages\\python39\\site-packages (from scikit-learn->sklearn) (1.2.0)\n",
      "Requirement already satisfied: numpy>=1.13.3 in c:\\users\\user\\appdata\\local\\packages\\pythonsoftwarefoundation.python.3.9_qbz5n2kfra8p0\\localcache\\local-packages\\python39\\site-packages (from scikit-learn->sklearn) (1.22.4)\n",
      "Requirement already satisfied: scipy>=0.19.1 in c:\\users\\user\\appdata\\local\\packages\\pythonsoftwarefoundation.python.3.9_qbz5n2kfra8p0\\localcache\\local-packages\\python39\\site-packages (from scikit-learn->sklearn) (1.7.0)\n"
     ]
    },
    {
     "name": "stderr",
     "output_type": "stream",
     "text": [
      "\n",
      "[notice] A new release of pip is available: 23.0.1 -> 23.1.2\n",
      "[notice] To update, run: C:\\Users\\user\\AppData\\Local\\Microsoft\\WindowsApps\\PythonSoftwareFoundation.Python.3.9_qbz5n2kfra8p0\\python.exe -m pip install --upgrade pip\n"
     ]
    }
   ],
   "source": [
    "!pip install sklearn\n",
    "import pandas as pd\n",
    "salary=pd.read_csv(\"stats.csv\", encoding=\"cp949\")\n",
    "salary\n",
    "from sklearn.linear_model import LinearRegression\n",
    "from sklearn.model_selection import train_test_split\n",
    "from sklearn.metrics import mean_squared_error"
   ]
  },
  {
   "cell_type": "code",
   "execution_count": 5,
   "metadata": {},
   "outputs": [],
   "source": [
    "Y=salary['연봉(2022)']\n",
    "X=salary.drop(['선수','연봉(2022)'], axis=1, inplace=False)\n",
    "X_train, X_test, Y_train, Y_test=train_test_split(X, Y, test_size=0.6,\n",
    "random_state=19)"
   ]
  },
  {
   "cell_type": "code",
   "execution_count": 6,
   "metadata": {},
   "outputs": [
    {
     "name": "stdout",
     "output_type": "stream",
     "text": [
      "Collecting statsmodels\n",
      "  Downloading statsmodels-0.14.0-cp39-cp39-win_amd64.whl (9.4 MB)\n",
      "     ---------------------------------------- 9.4/9.4 MB 19.3 MB/s eta 0:00:00\n",
      "Requirement already satisfied: pandas>=1.0 in c:\\users\\user\\appdata\\local\\packages\\pythonsoftwarefoundation.python.3.9_qbz5n2kfra8p0\\localcache\\local-packages\\python39\\site-packages (from statsmodels) (1.4.2)\n",
      "Requirement already satisfied: numpy>=1.18 in c:\\users\\user\\appdata\\local\\packages\\pythonsoftwarefoundation.python.3.9_qbz5n2kfra8p0\\localcache\\local-packages\\python39\\site-packages (from statsmodels) (1.22.4)\n",
      "Requirement already satisfied: packaging>=21.3 in c:\\users\\user\\appdata\\local\\packages\\pythonsoftwarefoundation.python.3.9_qbz5n2kfra8p0\\localcache\\local-packages\\python39\\site-packages (from statsmodels) (21.3)\n",
      "Requirement already satisfied: scipy!=1.9.2,>=1.4 in c:\\users\\user\\appdata\\local\\packages\\pythonsoftwarefoundation.python.3.9_qbz5n2kfra8p0\\localcache\\local-packages\\python39\\site-packages (from statsmodels) (1.7.0)\n",
      "Collecting patsy>=0.5.2\n",
      "  Downloading patsy-0.5.3-py2.py3-none-any.whl (233 kB)\n",
      "     -------------------------------------- 233.8/233.8 kB 7.2 MB/s eta 0:00:00\n",
      "Requirement already satisfied: pyparsing!=3.0.5,>=2.0.2 in c:\\users\\user\\appdata\\local\\packages\\pythonsoftwarefoundation.python.3.9_qbz5n2kfra8p0\\localcache\\local-packages\\python39\\site-packages (from packaging>=21.3->statsmodels) (3.0.9)\n",
      "Requirement already satisfied: pytz>=2020.1 in c:\\users\\user\\appdata\\local\\packages\\pythonsoftwarefoundation.python.3.9_qbz5n2kfra8p0\\localcache\\local-packages\\python39\\site-packages (from pandas>=1.0->statsmodels) (2022.1)\n",
      "Requirement already satisfied: python-dateutil>=2.8.1 in c:\\users\\user\\appdata\\local\\packages\\pythonsoftwarefoundation.python.3.9_qbz5n2kfra8p0\\localcache\\local-packages\\python39\\site-packages (from pandas>=1.0->statsmodels) (2.8.2)\n",
      "Requirement already satisfied: six in c:\\users\\user\\appdata\\local\\packages\\pythonsoftwarefoundation.python.3.9_qbz5n2kfra8p0\\localcache\\local-packages\\python39\\site-packages (from patsy>=0.5.2->statsmodels) (1.16.0)\n",
      "Installing collected packages: patsy, statsmodels\n",
      "Successfully installed patsy-0.5.3 statsmodels-0.14.0\n"
     ]
    },
    {
     "name": "stderr",
     "output_type": "stream",
     "text": [
      "\n",
      "[notice] A new release of pip is available: 23.0.1 -> 23.1.2\n",
      "[notice] To update, run: C:\\Users\\user\\AppData\\Local\\Microsoft\\WindowsApps\\PythonSoftwareFoundation.Python.3.9_qbz5n2kfra8p0\\python.exe -m pip install --upgrade pip\n"
     ]
    }
   ],
   "source": [
    "!pip install statsmodels"
   ]
  },
  {
   "cell_type": "code",
   "execution_count": 7,
   "metadata": {},
   "outputs": [
    {
     "name": "stdout",
     "output_type": "stream",
     "text": [
      "[-7.69230769e-01  4.24728646e+04]\n"
     ]
    }
   ],
   "source": [
    "lr=LinearRegression()\n",
    "lr.fit(X_train, Y_train)\n",
    "print(lr.coef_)\n",
    "import statsmodels.api as sm\n",
    "from statsmodels.formula.api import ols, glm\n",
    "model=sm.OLS(Y_train, X_train).fit()"
   ]
  },
  {
   "cell_type": "code",
   "execution_count": 8,
   "metadata": {},
   "outputs": [
    {
     "name": "stderr",
     "output_type": "stream",
     "text": [
      "C:\\Users\\user\\AppData\\Local\\Packages\\PythonSoftwareFoundation.Python.3.9_qbz5n2kfra8p0\\LocalCache\\local-packages\\Python39\\site-packages\\statsmodels\\stats\\stattools.py:74: ValueWarning: omni_normtest is not valid with less than 8 observations; 3 samples were given.\n",
      "  warn(\"omni_normtest is not valid with less than 8 observations; %i \"\n"
     ]
    },
    {
     "data": {
      "text/html": [
       "<table class=\"simpletable\">\n",
       "<caption>OLS Regression Results</caption>\n",
       "<tr>\n",
       "  <th>Dep. Variable:</th>        <td>연봉(2022)</td>     <th>  R-squared (uncentered):</th>      <td>   0.889</td>\n",
       "</tr>\n",
       "<tr>\n",
       "  <th>Model:</th>                   <td>OLS</td>       <th>  Adj. R-squared (uncentered):</th> <td>   0.668</td>\n",
       "</tr>\n",
       "<tr>\n",
       "  <th>Method:</th>             <td>Least Squares</td>  <th>  F-statistic:       </th>          <td>   4.024</td>\n",
       "</tr>\n",
       "<tr>\n",
       "  <th>Date:</th>             <td>Mon, 15 May 2023</td> <th>  Prob (F-statistic):</th>           <td> 0.332</td> \n",
       "</tr>\n",
       "<tr>\n",
       "  <th>Time:</th>                 <td>22:53:51</td>     <th>  Log-Likelihood:    </th>          <td> -37.029</td>\n",
       "</tr>\n",
       "<tr>\n",
       "  <th>No. Observations:</th>      <td>     3</td>      <th>  AIC:               </th>          <td>   78.06</td>\n",
       "</tr>\n",
       "<tr>\n",
       "  <th>Df Residuals:</th>          <td>     1</td>      <th>  BIC:               </th>          <td>   76.26</td>\n",
       "</tr>\n",
       "<tr>\n",
       "  <th>Df Model:</th>              <td>     2</td>      <th>                     </th>              <td> </td>   \n",
       "</tr>\n",
       "<tr>\n",
       "  <th>Covariance Type:</th>      <td>nonrobust</td>    <th>                     </th>              <td> </td>   \n",
       "</tr>\n",
       "</table>\n",
       "<table class=\"simpletable\">\n",
       "<tr>\n",
       "      <td></td>        <th>coef</th>     <th>std err</th>      <th>t</th>      <th>P>|t|</th>  <th>[0.025</th>    <th>0.975]</th>  \n",
       "</tr>\n",
       "<tr>\n",
       "  <th>연봉(2021)</th> <td>    4.0456</td> <td>    2.038</td> <td>    1.985</td> <td> 0.297</td> <td>  -21.855</td> <td>   29.946</td>\n",
       "</tr>\n",
       "<tr>\n",
       "  <th>WAR</th>      <td> -2.61e+05</td> <td> 2.59e+05</td> <td>   -1.007</td> <td> 0.498</td> <td>-3.56e+06</td> <td> 3.03e+06</td>\n",
       "</tr>\n",
       "</table>\n",
       "<table class=\"simpletable\">\n",
       "<tr>\n",
       "  <th>Omnibus:</th>       <td>   nan</td> <th>  Durbin-Watson:     </th> <td>   1.068</td>\n",
       "</tr>\n",
       "<tr>\n",
       "  <th>Prob(Omnibus):</th> <td>   nan</td> <th>  Jarque-Bera (JB):  </th> <td>   0.425</td>\n",
       "</tr>\n",
       "<tr>\n",
       "  <th>Skew:</th>          <td> 0.535</td> <th>  Prob(JB):          </th> <td>   0.809</td>\n",
       "</tr>\n",
       "<tr>\n",
       "  <th>Kurtosis:</th>      <td> 1.500</td> <th>  Cond. No.          </th> <td>3.18e+05</td>\n",
       "</tr>\n",
       "</table><br/><br/>Notes:<br/>[1] R² is computed without centering (uncentered) since the model does not contain a constant.<br/>[2] Standard Errors assume that the covariance matrix of the errors is correctly specified.<br/>[3] The condition number is large, 3.18e+05. This might indicate that there are<br/>strong multicollinearity or other numerical problems."
      ],
      "text/latex": [
       "\\begin{center}\n",
       "\\begin{tabular}{lclc}\n",
       "\\toprule\n",
       "\\textbf{Dep. Variable:}    &     연봉(2022)     & \\textbf{  R-squared (uncentered):}      &     0.889   \\\\\n",
       "\\textbf{Model:}            &       OLS        & \\textbf{  Adj. R-squared (uncentered):} &     0.668   \\\\\n",
       "\\textbf{Method:}           &  Least Squares   & \\textbf{  F-statistic:       }          &     4.024   \\\\\n",
       "\\textbf{Date:}             & Mon, 15 May 2023 & \\textbf{  Prob (F-statistic):}          &    0.332    \\\\\n",
       "\\textbf{Time:}             &     22:53:51     & \\textbf{  Log-Likelihood:    }          &   -37.029   \\\\\n",
       "\\textbf{No. Observations:} &           3      & \\textbf{  AIC:               }          &     78.06   \\\\\n",
       "\\textbf{Df Residuals:}     &           1      & \\textbf{  BIC:               }          &     76.26   \\\\\n",
       "\\textbf{Df Model:}         &           2      & \\textbf{                     }          &             \\\\\n",
       "\\textbf{Covariance Type:}  &    nonrobust     & \\textbf{                     }          &             \\\\\n",
       "\\bottomrule\n",
       "\\end{tabular}\n",
       "\\begin{tabular}{lcccccc}\n",
       "                  & \\textbf{coef} & \\textbf{std err} & \\textbf{t} & \\textbf{P$> |$t$|$} & \\textbf{[0.025} & \\textbf{0.975]}  \\\\\n",
       "\\midrule\n",
       "\\textbf{연봉(2021)} &       4.0456  &        2.038     &     1.985  &         0.297        &      -21.855    &       29.946     \\\\\n",
       "\\textbf{WAR}      &    -2.61e+05  &     2.59e+05     &    -1.007  &         0.498        &    -3.56e+06    &     3.03e+06     \\\\\n",
       "\\bottomrule\n",
       "\\end{tabular}\n",
       "\\begin{tabular}{lclc}\n",
       "\\textbf{Omnibus:}       &    nan & \\textbf{  Durbin-Watson:     } &    1.068  \\\\\n",
       "\\textbf{Prob(Omnibus):} &    nan & \\textbf{  Jarque-Bera (JB):  } &    0.425  \\\\\n",
       "\\textbf{Skew:}          &  0.535 & \\textbf{  Prob(JB):          } &    0.809  \\\\\n",
       "\\textbf{Kurtosis:}      &  1.500 & \\textbf{  Cond. No.          } & 3.18e+05  \\\\\n",
       "\\bottomrule\n",
       "\\end{tabular}\n",
       "%\\caption{OLS Regression Results}\n",
       "\\end{center}\n",
       "\n",
       "Notes: \\newline\n",
       " [1] R² is computed without centering (uncentered) since the model does not contain a constant. \\newline\n",
       " [2] Standard Errors assume that the covariance matrix of the errors is correctly specified. \\newline\n",
       " [3] The condition number is large, 3.18e+05. This might indicate that there are \\newline\n",
       " strong multicollinearity or other numerical problems."
      ],
      "text/plain": [
       "<class 'statsmodels.iolib.summary.Summary'>\n",
       "\"\"\"\n",
       "                                 OLS Regression Results                                \n",
       "=======================================================================================\n",
       "Dep. Variable:               연봉(2022)   R-squared (uncentered):                   0.889\n",
       "Model:                            OLS   Adj. R-squared (uncentered):              0.668\n",
       "Method:                 Least Squares   F-statistic:                              4.024\n",
       "Date:                Mon, 15 May 2023   Prob (F-statistic):                       0.332\n",
       "Time:                        22:53:51   Log-Likelihood:                         -37.029\n",
       "No. Observations:                   3   AIC:                                      78.06\n",
       "Df Residuals:                       1   BIC:                                      76.26\n",
       "Df Model:                           2                                                  \n",
       "Covariance Type:            nonrobust                                                  \n",
       "==============================================================================\n",
       "                 coef    std err          t      P>|t|      [0.025      0.975]\n",
       "------------------------------------------------------------------------------\n",
       "연봉(2021)       4.0456      2.038      1.985      0.297     -21.855      29.946\n",
       "WAR         -2.61e+05   2.59e+05     -1.007      0.498   -3.56e+06    3.03e+06\n",
       "==============================================================================\n",
       "Omnibus:                          nan   Durbin-Watson:                   1.068\n",
       "Prob(Omnibus):                    nan   Jarque-Bera (JB):                0.425\n",
       "Skew:                           0.535   Prob(JB):                        0.809\n",
       "Kurtosis:                       1.500   Cond. No.                     3.18e+05\n",
       "==============================================================================\n",
       "\n",
       "Notes:\n",
       "[1] R² is computed without centering (uncentered) since the model does not contain a constant.\n",
       "[2] Standard Errors assume that the covariance matrix of the errors is correctly specified.\n",
       "[3] The condition number is large, 3.18e+05. This might indicate that there are\n",
       "strong multicollinearity or other numerical problems.\n",
       "\"\"\""
      ]
     },
     "execution_count": 8,
     "metadata": {},
     "output_type": "execute_result"
    }
   ],
   "source": [
    "model.summary()"
   ]
  },
  {
   "cell_type": "code",
   "execution_count": 9,
   "metadata": {},
   "outputs": [
    {
     "name": "stdout",
     "output_type": "stream",
     "text": [
      "135155.93909846683\n"
     ]
    },
    {
     "data": {
      "text/html": [
       "<div>\n",
       "<style scoped>\n",
       "    .dataframe tbody tr th:only-of-type {\n",
       "        vertical-align: middle;\n",
       "    }\n",
       "\n",
       "    .dataframe tbody tr th {\n",
       "        vertical-align: top;\n",
       "    }\n",
       "\n",
       "    .dataframe thead th {\n",
       "        text-align: right;\n",
       "    }\n",
       "</style>\n",
       "<table border=\"1\" class=\"dataframe\">\n",
       "  <thead>\n",
       "    <tr style=\"text-align: right;\">\n",
       "      <th></th>\n",
       "      <th>선수</th>\n",
       "      <th>연봉(2022)</th>\n",
       "      <th>연봉(2021)</th>\n",
       "      <th>WAR</th>\n",
       "      <th>예측2022</th>\n",
       "    </tr>\n",
       "  </thead>\n",
       "  <tbody>\n",
       "    <tr>\n",
       "      <th>0</th>\n",
       "      <td>추신수</td>\n",
       "      <td>270000</td>\n",
       "      <td>270000</td>\n",
       "      <td>-0.150</td>\n",
       "      <td>170915.526192</td>\n",
       "    </tr>\n",
       "    <tr>\n",
       "      <th>1</th>\n",
       "      <td>구자욱</td>\n",
       "      <td>250000</td>\n",
       "      <td>28000</td>\n",
       "      <td>-0.132</td>\n",
       "      <td>169221.330816</td>\n",
       "    </tr>\n",
       "    <tr>\n",
       "      <th>2</th>\n",
       "      <td>한유섬</td>\n",
       "      <td>240000</td>\n",
       "      <td>50000</td>\n",
       "      <td>0.736</td>\n",
       "      <td>179093.912223</td>\n",
       "    </tr>\n",
       "    <tr>\n",
       "      <th>3</th>\n",
       "      <td>나성범</td>\n",
       "      <td>200000</td>\n",
       "      <td>50000</td>\n",
       "      <td>0.459</td>\n",
       "      <td>-16002.831524</td>\n",
       "    </tr>\n",
       "    <tr>\n",
       "      <th>4</th>\n",
       "      <td>박건우</td>\n",
       "      <td>190000</td>\n",
       "      <td>45000</td>\n",
       "      <td>0.136</td>\n",
       "      <td>190858.895706</td>\n",
       "    </tr>\n",
       "  </tbody>\n",
       "</table>\n",
       "</div>"
      ],
      "text/plain": [
       "    선수  연봉(2022)  연봉(2021)    WAR         예측2022\n",
       "0  추신수    270000    270000 -0.150  170915.526192\n",
       "1  구자욱    250000     28000 -0.132  169221.330816\n",
       "2  한유섬    240000     50000  0.736  179093.912223\n",
       "3  나성범    200000     50000  0.459  -16002.831524\n",
       "4  박건우    190000     45000  0.136  190858.895706"
      ]
     },
     "execution_count": 9,
     "metadata": {},
     "output_type": "execute_result"
    }
   ],
   "source": [
    "Y_predict=lr.predict(X_test)\n",
    "from math import sqrt\n",
    "from sklearn.metrics import mean_squared_error\n",
    "print(sqrt(mean_squared_error(Y_test, Y_predict)))\n",
    "Y_predict\n",
    "salary['예측2022']=pd.Series(Y_predict)\n",
    "salary.head()"
   ]
  },
  {
   "cell_type": "code",
   "execution_count": 11,
   "metadata": {},
   "outputs": [
    {
     "data": {
      "text/plain": [
       "<AxesSubplot: xlabel='선수'>"
      ]
     },
     "execution_count": 11,
     "metadata": {},
     "output_type": "execute_result"
    },
    {
     "data": {
      "image/png": "[encoded data removed]",
      "text/plain": [
       "<Figure size 432x288 with 1 Axes>"
      ]
     },
     "metadata": {
      "needs_background": "light"
     },
     "output_type": "display_data"
    }
   ],
   "source": [
    "import matplotlib as plt\n",
    "plt.rc('font', family='Malgun Gothic')\n",
    "salary.plot(x='선수', y=['연봉(2022)','예측2022' ], kind=\"bar\")"
   ]
  },
  {
   "attachments": {},
   "cell_type": "markdown",
   "metadata": {},
   "source": [
    "시세 예측"
   ]
  },
  {
   "cell_type": "code",
   "execution_count": 12,
   "metadata": {},
   "outputs": [
    {
     "data": {
      "text/html": [
       "<div>\n",
       "<style scoped>\n",
       "    .dataframe tbody tr th:only-of-type {\n",
       "        vertical-align: middle;\n",
       "    }\n",
       "\n",
       "    .dataframe tbody tr th {\n",
       "        vertical-align: top;\n",
       "    }\n",
       "\n",
       "    .dataframe thead th {\n",
       "        text-align: right;\n",
       "    }\n",
       "</style>\n",
       "<table border=\"1\" class=\"dataframe\">\n",
       "  <thead>\n",
       "    <tr style=\"text-align: right;\">\n",
       "      <th></th>\n",
       "      <th>day</th>\n",
       "      <th>price</th>\n",
       "    </tr>\n",
       "  </thead>\n",
       "  <tbody>\n",
       "    <tr>\n",
       "      <th>0</th>\n",
       "      <td>2020-08-27 0:00</td>\n",
       "      <td>4354.308333</td>\n",
       "    </tr>\n",
       "    <tr>\n",
       "      <th>1</th>\n",
       "      <td>2020-08-28 0:00</td>\n",
       "      <td>4391.673517</td>\n",
       "    </tr>\n",
       "    <tr>\n",
       "      <th>2</th>\n",
       "      <td>2020-08-29 0:00</td>\n",
       "      <td>4607.985450</td>\n",
       "    </tr>\n",
       "    <tr>\n",
       "      <th>3</th>\n",
       "      <td>2020-08-30 0:00</td>\n",
       "      <td>4594.987850</td>\n",
       "    </tr>\n",
       "    <tr>\n",
       "      <th>4</th>\n",
       "      <td>2020-08-31 0:00</td>\n",
       "      <td>4748.255000</td>\n",
       "    </tr>\n",
       "    <tr>\n",
       "      <th>...</th>\n",
       "      <td>...</td>\n",
       "      <td>...</td>\n",
       "    </tr>\n",
       "    <tr>\n",
       "      <th>360</th>\n",
       "      <td>2021-08-22 0:00</td>\n",
       "      <td>6575.229167</td>\n",
       "    </tr>\n",
       "    <tr>\n",
       "      <th>361</th>\n",
       "      <td>2021-08-23 0:00</td>\n",
       "      <td>6434.881667</td>\n",
       "    </tr>\n",
       "    <tr>\n",
       "      <th>362</th>\n",
       "      <td>2021-08-24 0:00</td>\n",
       "      <td>6543.645714</td>\n",
       "    </tr>\n",
       "    <tr>\n",
       "      <th>363</th>\n",
       "      <td>2021-08-25 0:00</td>\n",
       "      <td>6719.429231</td>\n",
       "    </tr>\n",
       "    <tr>\n",
       "      <th>364</th>\n",
       "      <td>2021-08-26 0:00</td>\n",
       "      <td>6673.274167</td>\n",
       "    </tr>\n",
       "  </tbody>\n",
       "</table>\n",
       "<p>365 rows × 2 columns</p>\n",
       "</div>"
      ],
      "text/plain": [
       "                 day        price\n",
       "0    2020-08-27 0:00  4354.308333\n",
       "1    2020-08-28 0:00  4391.673517\n",
       "2    2020-08-29 0:00  4607.985450\n",
       "3    2020-08-30 0:00  4594.987850\n",
       "4    2020-08-31 0:00  4748.255000\n",
       "..               ...          ...\n",
       "360  2021-08-22 0:00  6575.229167\n",
       "361  2021-08-23 0:00  6434.881667\n",
       "362  2021-08-24 0:00  6543.645714\n",
       "363  2021-08-25 0:00  6719.429231\n",
       "364  2021-08-26 0:00  6673.274167\n",
       "\n",
       "[365 rows x 2 columns]"
      ]
     },
     "execution_count": 12,
     "metadata": {},
     "output_type": "execute_result"
    }
   ],
   "source": [
    "import pandas as pd\n",
    "import numpy as np\n",
    "import matplotlib.pyplot as plt\n",
    "df = pd.read_csv('price.csv', encoding=\"cp949\", names=['day', 'price'])\n",
    "df"
   ]
  },
  {
   "cell_type": "code",
   "execution_count": 13,
   "metadata": {},
   "outputs": [
    {
     "data": {
      "text/plain": [
       "<AxesSubplot: xlabel='day'>"
      ]
     },
     "execution_count": 13,
     "metadata": {},
     "output_type": "execute_result"
    },
    {
     "data": {
      "image/png": "[encoded data removed]",
      "text/plain": [
       "<Figure size 432x288 with 1 Axes>"
      ]
     },
     "metadata": {
      "needs_background": "light"
     },
     "output_type": "display_data"
    }
   ],
   "source": [
    "df['day']=pd.to_datetime(df['day'])\n",
    "df.index=df['day']\n",
    "df.set_index('day', inplace=True)\n",
    "df.head()\n",
    "df.plot()"
   ]
  },
  {
   "cell_type": "code",
   "execution_count": 16,
   "metadata": {},
   "outputs": [
    {
     "name": "stderr",
     "output_type": "stream",
     "text": [
      "C:\\Users\\user\\AppData\\Local\\Packages\\PythonSoftwareFoundation.Python.3.9_qbz5n2kfra8p0\\LocalCache\\local-packages\\Python39\\site-packages\\statsmodels\\tsa\\statespace\\sarimax.py:966: UserWarning: Non-stationary starting autoregressive parameters found. Using zeros as starting parameters.\n",
      "  warn('Non-stationary starting autoregressive parameters'\n",
      "C:\\Users\\user\\AppData\\Local\\Packages\\PythonSoftwareFoundation.Python.3.9_qbz5n2kfra8p0\\LocalCache\\local-packages\\Python39\\site-packages\\statsmodels\\tsa\\statespace\\sarimax.py:978: UserWarning: Non-invertible starting MA parameters found. Using zeros as starting parameters.\n",
      "  warn('Non-invertible starting MA parameters found.'\n"
     ]
    },
    {
     "name": "stdout",
     "output_type": "stream",
     "text": [
      "                               SARIMAX Results                                \n",
      "==============================================================================\n",
      "Dep. Variable:                      y   No. Observations:                  365\n",
      "Model:               SARIMAX(2, 1, 2)   Log Likelihood               -2787.483\n",
      "Date:                Mon, 15 May 2023   AIC                           5586.967\n",
      "Time:                        22:55:51   BIC                           5610.350\n",
      "Sample:                             0   HQIC                          5596.261\n",
      "                                - 365                                         \n",
      "Covariance Type:                  opg                                         \n",
      "==============================================================================\n",
      "                 coef    std err          z      P>|z|      [0.025      0.975]\n",
      "------------------------------------------------------------------------------\n",
      "intercept      0.8121      6.735      0.121      0.904     -12.388      14.012\n",
      "ar.L1          0.2416      0.339      0.713      0.476      -0.423       0.906\n",
      "ar.L2          0.6069      0.211      2.874      0.004       0.193       1.021\n",
      "ma.L1         -0.1513      0.339     -0.446      0.656      -0.816       0.514\n",
      "ma.L2         -0.6704      0.222     -3.021      0.003      -1.105      -0.235\n",
      "sigma2      2.653e+05   1.08e+04     24.558      0.000    2.44e+05    2.86e+05\n",
      "===================================================================================\n",
      "Ljung-Box (L1) (Q):                   0.07   Jarque-Bera (JB):               723.07\n",
      "Prob(Q):                              0.79   Prob(JB):                         0.00\n",
      "Heteroskedasticity (H):               0.14   Skew:                             0.01\n",
      "Prob(H) (two-sided):                  0.00   Kurtosis:                         9.90\n",
      "===================================================================================\n",
      "\n",
      "Warnings:\n",
      "[1] Covariance matrix calculated using the outer product of gradients (complex-step).\n"
     ]
    }
   ],
   "source": [
    "from statsmodels.tsa.statespace.sarimax import SARIMAX\n",
    "import statsmodels.api as sm\n",
    "\n",
    "model = SARIMAX(df.price.values, order=(2, 1, 2), trend='c')\n",
    "model_fit = model.fit()\n",
    "print(model_fit.summary())\n"
   ]
  },
  {
   "cell_type": "code",
   "execution_count": 21,
   "metadata": {},
   "outputs": [
    {
     "data": {
      "image/png": "[encoded data removed]",
      "text/plain": [
       "<Figure size 720x432 with 1 Axes>"
      ]
     },
     "metadata": {
      "needs_background": "light"
     },
     "output_type": "display_data"
    }
   ],
   "source": [
    "# Convert confidence intervals to DataFrame\n",
    "confidence_intervals = pd.DataFrame(confidence_intervals, columns=['lower', 'upper'])\n",
    "\n",
    "# Plotting actual and predicted values\n",
    "fig, ax = plt.subplots(figsize=(10, 6))\n",
    "ax.plot(df.price.values, label='Actual')\n",
    "ax.plot(pred_values, color='red', label='Predicted')\n",
    "ax.fill_between(confidence_intervals.index, confidence_intervals['lower'], confidence_intervals['upper'], color='gray', alpha=0.3)\n",
    "ax.legend()\n",
    "plt.show()\n"
   ]
  },
  {
   "attachments": {},
   "cell_type": "markdown",
   "metadata": {},
   "source": [
    "영화 평점 예측 실습"
   ]
  },
  {
   "cell_type": "code",
   "execution_count": 26,
   "metadata": {},
   "outputs": [
    {
     "name": "stderr",
     "output_type": "stream",
     "text": [
      "C:\\Users\\user\\AppData\\Local\\Packages\\PythonSoftwareFoundation.Python.3.9_qbz5n2kfra8p0\\LocalCache\\local-packages\\Python39\\site-packages\\scipy\\stats\\stats.py:1541: UserWarning: kurtosistest only valid for n>=20 ... continuing anyway, n=9\n",
      "  warnings.warn(\"kurtosistest only valid for n>=20 ... continuing \"\n"
     ]
    },
    {
     "data": {
      "text/html": [
       "<table class=\"simpletable\">\n",
       "<caption>OLS Regression Results</caption>\n",
       "<tr>\n",
       "  <th>Dep. Variable:</th>         <td>grade1</td>      <th>  R-squared:         </th> <td>   0.580</td>\n",
       "</tr>\n",
       "<tr>\n",
       "  <th>Model:</th>                   <td>OLS</td>       <th>  Adj. R-squared:    </th> <td>   0.520</td>\n",
       "</tr>\n",
       "<tr>\n",
       "  <th>Method:</th>             <td>Least Squares</td>  <th>  F-statistic:       </th> <td>   9.653</td>\n",
       "</tr>\n",
       "<tr>\n",
       "  <th>Date:</th>             <td>Mon, 15 May 2023</td> <th>  Prob (F-statistic):</th>  <td>0.0172</td> \n",
       "</tr>\n",
       "<tr>\n",
       "  <th>Time:</th>                 <td>22:58:39</td>     <th>  Log-Likelihood:    </th> <td> -5.1324</td>\n",
       "</tr>\n",
       "<tr>\n",
       "  <th>No. Observations:</th>      <td>     9</td>      <th>  AIC:               </th> <td>   14.26</td>\n",
       "</tr>\n",
       "<tr>\n",
       "  <th>Df Residuals:</th>          <td>     7</td>      <th>  BIC:               </th> <td>   14.66</td>\n",
       "</tr>\n",
       "<tr>\n",
       "  <th>Df Model:</th>              <td>     1</td>      <th>                     </th>     <td> </td>   \n",
       "</tr>\n",
       "<tr>\n",
       "  <th>Covariance Type:</th>      <td>nonrobust</td>    <th>                     </th>     <td> </td>   \n",
       "</tr>\n",
       "</table>\n",
       "<table class=\"simpletable\">\n",
       "<tr>\n",
       "      <td></td>         <th>coef</th>     <th>std err</th>      <th>t</th>      <th>P>|t|</th>  <th>[0.025</th>    <th>0.975]</th>  \n",
       "</tr>\n",
       "<tr>\n",
       "  <th>Intercept</th> <td>    4.6157</td> <td>    1.020</td> <td>    4.526</td> <td> 0.003</td> <td>    2.204</td> <td>    7.027</td>\n",
       "</tr>\n",
       "<tr>\n",
       "  <th>grade2</th>    <td>    0.4960</td> <td>    0.160</td> <td>    3.107</td> <td> 0.017</td> <td>    0.119</td> <td>    0.874</td>\n",
       "</tr>\n",
       "</table>\n",
       "<table class=\"simpletable\">\n",
       "<tr>\n",
       "  <th>Omnibus:</th>       <td> 0.960</td> <th>  Durbin-Watson:     </th> <td>   2.206</td>\n",
       "</tr>\n",
       "<tr>\n",
       "  <th>Prob(Omnibus):</th> <td> 0.619</td> <th>  Jarque-Bera (JB):  </th> <td>   0.597</td>\n",
       "</tr>\n",
       "<tr>\n",
       "  <th>Skew:</th>          <td> 0.557</td> <th>  Prob(JB):          </th> <td>   0.742</td>\n",
       "</tr>\n",
       "<tr>\n",
       "  <th>Kurtosis:</th>      <td> 2.407</td> <th>  Cond. No.          </th> <td>    41.2</td>\n",
       "</tr>\n",
       "</table><br/><br/>Notes:<br/>[1] Standard Errors assume that the covariance matrix of the errors is correctly specified."
      ],
      "text/latex": [
       "\\begin{center}\n",
       "\\begin{tabular}{lclc}\n",
       "\\toprule\n",
       "\\textbf{Dep. Variable:}    &      grade1      & \\textbf{  R-squared:         } &     0.580   \\\\\n",
       "\\textbf{Model:}            &       OLS        & \\textbf{  Adj. R-squared:    } &     0.520   \\\\\n",
       "\\textbf{Method:}           &  Least Squares   & \\textbf{  F-statistic:       } &     9.653   \\\\\n",
       "\\textbf{Date:}             & Mon, 15 May 2023 & \\textbf{  Prob (F-statistic):} &   0.0172    \\\\\n",
       "\\textbf{Time:}             &     22:58:39     & \\textbf{  Log-Likelihood:    } &   -5.1324   \\\\\n",
       "\\textbf{No. Observations:} &           9      & \\textbf{  AIC:               } &     14.26   \\\\\n",
       "\\textbf{Df Residuals:}     &           7      & \\textbf{  BIC:               } &     14.66   \\\\\n",
       "\\textbf{Df Model:}         &           1      & \\textbf{                     } &             \\\\\n",
       "\\textbf{Covariance Type:}  &    nonrobust     & \\textbf{                     } &             \\\\\n",
       "\\bottomrule\n",
       "\\end{tabular}\n",
       "\\begin{tabular}{lcccccc}\n",
       "                   & \\textbf{coef} & \\textbf{std err} & \\textbf{t} & \\textbf{P$> |$t$|$} & \\textbf{[0.025} & \\textbf{0.975]}  \\\\\n",
       "\\midrule\n",
       "\\textbf{Intercept} &       4.6157  &        1.020     &     4.526  &         0.003        &        2.204    &        7.027     \\\\\n",
       "\\textbf{grade2}    &       0.4960  &        0.160     &     3.107  &         0.017        &        0.119    &        0.874     \\\\\n",
       "\\bottomrule\n",
       "\\end{tabular}\n",
       "\\begin{tabular}{lclc}\n",
       "\\textbf{Omnibus:}       &  0.960 & \\textbf{  Durbin-Watson:     } &    2.206  \\\\\n",
       "\\textbf{Prob(Omnibus):} &  0.619 & \\textbf{  Jarque-Bera (JB):  } &    0.597  \\\\\n",
       "\\textbf{Skew:}          &  0.557 & \\textbf{  Prob(JB):          } &    0.742  \\\\\n",
       "\\textbf{Kurtosis:}      &  2.407 & \\textbf{  Cond. No.          } &     41.2  \\\\\n",
       "\\bottomrule\n",
       "\\end{tabular}\n",
       "%\\caption{OLS Regression Results}\n",
       "\\end{center}\n",
       "\n",
       "Notes: \\newline\n",
       " [1] Standard Errors assume that the covariance matrix of the errors is correctly specified."
      ],
      "text/plain": [
       "<class 'statsmodels.iolib.summary.Summary'>\n",
       "\"\"\"\n",
       "                            OLS Regression Results                            \n",
       "==============================================================================\n",
       "Dep. Variable:                 grade1   R-squared:                       0.580\n",
       "Model:                            OLS   Adj. R-squared:                  0.520\n",
       "Method:                 Least Squares   F-statistic:                     9.653\n",
       "Date:                Mon, 15 May 2023   Prob (F-statistic):             0.0172\n",
       "Time:                        22:58:39   Log-Likelihood:                -5.1324\n",
       "No. Observations:                   9   AIC:                             14.26\n",
       "Df Residuals:                       7   BIC:                             14.66\n",
       "Df Model:                           1                                         \n",
       "Covariance Type:            nonrobust                                         \n",
       "==============================================================================\n",
       "                 coef    std err          t      P>|t|      [0.025      0.975]\n",
       "------------------------------------------------------------------------------\n",
       "Intercept      4.6157      1.020      4.526      0.003       2.204       7.027\n",
       "grade2         0.4960      0.160      3.107      0.017       0.119       0.874\n",
       "==============================================================================\n",
       "Omnibus:                        0.960   Durbin-Watson:                   2.206\n",
       "Prob(Omnibus):                  0.619   Jarque-Bera (JB):                0.597\n",
       "Skew:                           0.557   Prob(JB):                        0.742\n",
       "Kurtosis:                       2.407   Cond. No.                         41.2\n",
       "==============================================================================\n",
       "\n",
       "Notes:\n",
       "[1] Standard Errors assume that the covariance matrix of the errors is correctly specified.\n",
       "\"\"\""
      ]
     },
     "execution_count": 26,
     "metadata": {},
     "output_type": "execute_result"
    }
   ],
   "source": [
    "import pandas as pd\n",
    "import numpy as np\n",
    "import matplotlib.pyplot as plt\n",
    "dff = pd.read_csv('movie.csv', encoding=\"cp949\")\n",
    "from statsmodels.formula.api import ols\n",
    "res=ols('grade1 ~ grade2', data=dff).fit()\n",
    "res.summary()"
   ]
  },
  {
   "cell_type": "code",
   "execution_count": 27,
   "metadata": {},
   "outputs": [
    {
     "name": "stdout",
     "output_type": "stream",
     "text": [
      "[7.3437804  7.42810172 8.5837998  7.59178428 8.08779204 7.09577651\n",
      " 8.30107538 8.08779204 7.18009783]\n"
     ]
    }
   ],
   "source": [
    "y=dff['grade1']\n",
    "x=dff[['grade2']]\n",
    "from sklearn.linear_model import LinearRegression\n",
    "model=LinearRegression()\n",
    "model.fit(x, y)\n",
    "result=model.predict(x)\n",
    "print(result)\n",
    "dff['예측평가']=pd.Series(result)"
   ]
  },
  {
   "cell_type": "code",
   "execution_count": 28,
   "metadata": {},
   "outputs": [
    {
     "data": {
      "text/html": [
       "<div>\n",
       "<style scoped>\n",
       "    .dataframe tbody tr th:only-of-type {\n",
       "        vertical-align: middle;\n",
       "    }\n",
       "\n",
       "    .dataframe tbody tr th {\n",
       "        vertical-align: top;\n",
       "    }\n",
       "\n",
       "    .dataframe thead th {\n",
       "        text-align: right;\n",
       "    }\n",
       "</style>\n",
       "<table border=\"1\" class=\"dataframe\">\n",
       "  <thead>\n",
       "    <tr style=\"text-align: right;\">\n",
       "      <th></th>\n",
       "      <th>영화제목</th>\n",
       "      <th>평점(네티즌)</th>\n",
       "      <th>평점(기자-평론가)</th>\n",
       "      <th>예측평가</th>\n",
       "    </tr>\n",
       "  </thead>\n",
       "  <tbody>\n",
       "    <tr>\n",
       "      <th>0</th>\n",
       "      <td>불도저에 탄 소녀</td>\n",
       "      <td>8.21</td>\n",
       "      <td>5.50</td>\n",
       "      <td>7.343780</td>\n",
       "    </tr>\n",
       "    <tr>\n",
       "      <th>1</th>\n",
       "      <td>약속의 네버랜드</td>\n",
       "      <td>7.10</td>\n",
       "      <td>5.67</td>\n",
       "      <td>7.428102</td>\n",
       "    </tr>\n",
       "    <tr>\n",
       "      <th>2</th>\n",
       "      <td>나의 집은 어디인가</td>\n",
       "      <td>8.69</td>\n",
       "      <td>8.00</td>\n",
       "      <td>8.583800</td>\n",
       "    </tr>\n",
       "    <tr>\n",
       "      <th>3</th>\n",
       "      <td>앰블런스</td>\n",
       "      <td>7.18</td>\n",
       "      <td>6.00</td>\n",
       "      <td>7.591784</td>\n",
       "    </tr>\n",
       "    <tr>\n",
       "      <th>4</th>\n",
       "      <td>수퍼 소닉2</td>\n",
       "      <td>8.38</td>\n",
       "      <td>7.00</td>\n",
       "      <td>8.087792</td>\n",
       "    </tr>\n",
       "    <tr>\n",
       "      <th>5</th>\n",
       "      <td>스텔라</td>\n",
       "      <td>6.75</td>\n",
       "      <td>5.00</td>\n",
       "      <td>7.095777</td>\n",
       "    </tr>\n",
       "    <tr>\n",
       "      <th>6</th>\n",
       "      <td>패러렐마더스</td>\n",
       "      <td>7.75</td>\n",
       "      <td>7.43</td>\n",
       "      <td>8.301075</td>\n",
       "    </tr>\n",
       "    <tr>\n",
       "      <th>7</th>\n",
       "      <td>재춘언니</td>\n",
       "      <td>8.40</td>\n",
       "      <td>7.00</td>\n",
       "      <td>8.087792</td>\n",
       "    </tr>\n",
       "    <tr>\n",
       "      <th>8</th>\n",
       "      <td>모비우스</td>\n",
       "      <td>7.24</td>\n",
       "      <td>5.17</td>\n",
       "      <td>7.180098</td>\n",
       "    </tr>\n",
       "  </tbody>\n",
       "</table>\n",
       "</div>"
      ],
      "text/plain": [
       "         영화제목  평점(네티즌)  평점(기자-평론가)      예측평가\n",
       "0   불도저에 탄 소녀     8.21        5.50  7.343780\n",
       "1    약속의 네버랜드     7.10        5.67  7.428102\n",
       "2  나의 집은 어디인가     8.69        8.00  8.583800\n",
       "3        앰블런스     7.18        6.00  7.591784\n",
       "4      수퍼 소닉2     8.38        7.00  8.087792\n",
       "5         스텔라     6.75        5.00  7.095777\n",
       "6      패러렐마더스     7.75        7.43  8.301075\n",
       "7        재춘언니     8.40        7.00  8.087792\n",
       "8        모비우스     7.24        5.17  7.180098"
      ]
     },
     "execution_count": 28,
     "metadata": {},
     "output_type": "execute_result"
    }
   ],
   "source": [
    "dff.rename(columns={'grade1':'평점(네티즌)','grade2':'평점(기자-평론가)'})"
   ]
  }
 ],
 "metadata": {
  "kernelspec": {
   "display_name": "Python 3",
   "language": "python",
   "name": "python3"
  },
  "language_info": {
   "codemirror_mode": {
    "name": "ipython",
    "version": 3
   },
   "file_extension": ".py",
   "mimetype": "text/x-python",
   "name": "python",
   "nbconvert_exporter": "python",
   "pygments_lexer": "ipython3",
   "version": "3.9.13"
  },
  "orig_nbformat": 4
 },
 "nbformat": 4,
 "nbformat_minor": 2
}
